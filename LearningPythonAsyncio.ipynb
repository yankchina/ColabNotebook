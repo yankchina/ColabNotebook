{
  "nbformat": 4,
  "nbformat_minor": 0,
  "metadata": {
    "colab": {
      "name": "LearningPythonAsyncio.ipynb",
      "provenance": [],
      "collapsed_sections": [],
      "authorship_tag": "ABX9TyPBUlzINYtEqGXAVGNj5oDS",
      "include_colab_link": true
    },
    "kernelspec": {
      "name": "python3",
      "display_name": "Python 3"
    },
    "language_info": {
      "name": "python"
    }
  },
  "cells": [
    {
      "cell_type": "markdown",
      "metadata": {
        "id": "view-in-github",
        "colab_type": "text"
      },
      "source": [
        "<a href=\"https://colab.research.google.com/github/yankchina/ColabNotebook/blob/main/LearningPythonAsyncio.ipynb\" target=\"_parent\"><img src=\"https://colab.research.google.com/assets/colab-badge.svg\" alt=\"Open In Colab\"/></a>"
      ]
    },
    {
      "cell_type": "markdown",
      "source": [
        "# Learning Python Asyncio\n",
        "\n",
        "Python 异步处理是我目前许多项目中最常见的问题，我还是希望能够用 asyncio 而不是 Multithreading。这样我可以用 `async` + `await` 来写更优雅的代码，并且能够带来更灵活的架构。同时我也想通过这样的方式来做具体事情。\n"
      ],
      "metadata": {
        "id": "qZURQvA7zVYf"
      }
    },
    {
      "cell_type": "markdown",
      "source": [
        "## 学习 Lynn Root 的讲座\n",
        "\n",
        "我还是希望能从一些实际代码入手来进行学习。\n",
        "\n",
        "于是我找到 Lynn Root 在 2019 Euro Python Conference 上做的 Lecture\n",
        "\n",
        "- 视频：[Lynn Root - Advanced asyncio: Solving Real-world Production Problems](https://www.youtube.com/watch?v=sW76-pRkZk8&list=LL&index=1&t=1545s&ab_channel=EuroPythonConference)\n",
        "- 代码：[https://github.com/econchick/mayhem](https://github.com/econchick/mayhem)\n",
        "\n",
        "我按照她的讲座内容逐个部分做解读。\n",
        "\n",
        "这个项目的名称叫做 `mayhem` ，其意思是 混乱。这个与异步处理的内涵是相通的。（2021-12-29 理解）\n",
        "\n"
      ],
      "metadata": {
        "id": "rw0SlvkCztXe"
      }
    },
    {
      "cell_type": "markdown",
      "source": [
        "### Part01\n",
        "\n",
        "我还是用手动的方式，逐行将 代码写入到 Colab Notebook 中"
      ],
      "metadata": {
        "id": "U6HzA-fy0NUa"
      }
    },
    {
      "cell_type": "code",
      "execution_count": 1,
      "metadata": {
        "colab": {
          "base_uri": "https://localhost:8080/"
        },
        "id": "XYs8q66yzO5X",
        "outputId": "45f10af8-efe1-4cd3-f3f0-c2d88f4e614a"
      },
      "outputs": [
        {
          "output_type": "stream",
          "name": "stdout",
          "text": [
            "Requirement already satisfied: attrs in /usr/local/lib/python3.7/dist-packages (21.2.0)\n"
          ]
        }
      ],
      "source": [
        "!pip install attrs"
      ]
    }
  ]
}